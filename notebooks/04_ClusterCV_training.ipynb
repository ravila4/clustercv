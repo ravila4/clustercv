{
 "cells": [
  {
   "cell_type": "markdown",
   "metadata": {},
   "source": [
    "# Training with ClusterCV"
   ]
  },
  {
   "cell_type": "code",
   "execution_count": 2,
   "metadata": {},
   "outputs": [],
   "source": [
    "import sys\n",
    "\n",
    "import pandas as pd\n",
    "import matplotlib.pyplot as plt\n",
    "import numpy as np\n",
    "import seaborn as sns\n",
    "from sklearn.ensemble import RandomForestRegressor\n",
    "from sklearn.metrics import mean_squared_error, r2_score\n",
    "from tqdm import tqdm\n",
    "\n",
    "import clustercv"
   ]
  },
  {
   "cell_type": "code",
   "execution_count": 9,
   "metadata": {},
   "outputs": [
    {
     "name": "stdout",
     "output_type": "stream",
     "text": [
      "Number of clusters: 43\n"
     ]
    }
   ],
   "source": [
    "# Read data file\n",
    "data = pd.read_csv(\"cmpd_activity_tcrd_5.4.1.csv\", low_memory=False)\n",
    "# Filter data\n",
    "targets = clustercv.filter_data(data, act_type='IC50', min_samples=100)\n",
    "# Generate features\n",
    "n = targets[0]\n",
    "\n",
    "target_data = clustercv.get_target_data(data, n)\n",
    "   \n",
    "# Get features\n",
    "features = clustercv.batchECFP(target_data.smiles)\n",
    "  \n",
    "# Cluster features and generate folds\n",
    "n_folds = 10\n",
    "folds, max_score = clustercv.ClusterCV(features, n_folds=10)"
   ]
  },
  {
   "cell_type": "code",
   "execution_count": 10,
   "metadata": {},
   "outputs": [],
   "source": [
    "def cross_val(n_estimators=10, criterion='mse', max_depth=None, min_samples_split=2, min_samples_leaf=1,\n",
    "              max_features='auto', bootstrap=True, n_jobs=None, random_state=None):\n",
    "    # Settings for RF\n",
    "    rf = RandomForestRegressor(n_estimators=n_estimators, criterion=criterion, max_depth=max_depth,\n",
    "                               min_samples_split=min_samples_split, min_samples_leaf=min_samples_leaf,\n",
    "                               max_features=max_features, bootstrap=bootstrap, n_jobs=n_jobs,\n",
    "                               random_state=random_state)\n",
    "    # Store results\n",
    "    scores = np.zeros(n_folds)\n",
    "    r2scores = np.zeros(n_folds)\n",
    "    n_features = features.shape[1]\n",
    "    # CV loop\n",
    "    for k in range (n_folds):\n",
    "        # Get training and testing set\n",
    "        test_index = np.where(folds == k)[0]\n",
    "        train_index = np.where(folds != k)[0]\n",
    "        # Get train and test samples\n",
    "        X_test = features[test_index, :]\n",
    "        X_train = features[train_index, :]\n",
    "        y_test = target_data.act_value.iloc[test_index]\n",
    "        y_train = target_data.act_value.iloc[train_index]\n",
    "        # Run Model\n",
    "        rf.fit(X_train, y_train)\n",
    "        y_pred = rf.predict(X_test)\n",
    "        scores[k] = mean_squared_error(y_test, y_pred)\n",
    "        r2scores[k] = r2_score(y_test, y_pred)\n",
    "    \n",
    "    print(\"R2: %0.2f (+/- %0.2f)\" % (r2scores.mean(), r2scores.std() * 2))\n",
    "    print(\"MSE: %0.2f (+/- %0.2f)\" % (scores.mean(), scores.std() * 2))\n",
    "    print()"
   ]
  },
  {
   "cell_type": "code",
   "execution_count": 14,
   "metadata": {},
   "outputs": [],
   "source": [
    "# Grid search settings    \n",
    "n_estimators = [10, 100, 200, 300, 400, 500]\n",
    "max_features = ['auto', 'sqrt']\n",
    "max_depth = [2, 12, 23, 34, 45, 56, 66, 77, 88, 99, 110, None]\n",
    "min_samples_split = [2, 5, 10]\n",
    "min_samples_leaf = [1, 2, 4]\n",
    "bootstrap = [True, False]\n",
    "criterion=['mse', 'mae']"
   ]
  },
  {
   "cell_type": "code",
   "execution_count": 15,
   "metadata": {},
   "outputs": [
    {
     "name": "stdout",
     "output_type": "stream",
     "text": [
      "n_estimators = 10\n",
      "R2: -0.42 (+/- 1.83)\n",
      "MSE: 0.31 (+/- 0.38)\n",
      "\n",
      "n_estimators = 100\n",
      "R2: -0.29 (+/- 1.43)\n",
      "MSE: 0.29 (+/- 0.32)\n",
      "\n",
      "n_estimators = 200\n",
      "R2: -0.26 (+/- 1.36)\n",
      "MSE: 0.28 (+/- 0.32)\n",
      "\n",
      "n_estimators = 300\n",
      "R2: -0.26 (+/- 1.40)\n",
      "MSE: 0.28 (+/- 0.32)\n",
      "\n",
      "n_estimators = 400\n",
      "R2: -0.27 (+/- 1.39)\n",
      "MSE: 0.28 (+/- 0.32)\n",
      "\n",
      "n_estimators = 500\n",
      "R2: -0.28 (+/- 1.39)\n",
      "MSE: 0.29 (+/- 0.32)\n",
      "\n"
     ]
    }
   ],
   "source": [
    "for n in n_estimators:\n",
    "    print(\"n_estimators =\", n)\n",
    "    cross_val(n_estimators=n, random_state = 42)"
   ]
  },
  {
   "cell_type": "code",
   "execution_count": 17,
   "metadata": {},
   "outputs": [
    {
     "name": "stdout",
     "output_type": "stream",
     "text": [
      "n_estimators = 10 max_features = auto\n",
      "R2: -0.42 (+/- 1.83)\n",
      "MSE: 0.31 (+/- 0.38)\n",
      "\n",
      "n_estimators = 10 max_features = sqrt\n",
      "R2: -0.42 (+/- 1.11)\n",
      "MSE: 0.32 (+/- 0.29)\n",
      "\n",
      "n_estimators = 100 max_features = auto\n",
      "R2: -0.29 (+/- 1.43)\n",
      "MSE: 0.29 (+/- 0.32)\n",
      "\n",
      "n_estimators = 100 max_features = sqrt\n",
      "R2: -0.26 (+/- 1.01)\n",
      "MSE: 0.29 (+/- 0.31)\n",
      "\n",
      "n_estimators = 200 max_features = auto\n",
      "R2: -0.26 (+/- 1.36)\n",
      "MSE: 0.28 (+/- 0.32)\n",
      "\n",
      "n_estimators = 200 max_features = sqrt\n",
      "R2: -0.26 (+/- 1.09)\n",
      "MSE: 0.28 (+/- 0.28)\n",
      "\n",
      "n_estimators = 300 max_features = auto\n",
      "R2: -0.26 (+/- 1.40)\n",
      "MSE: 0.28 (+/- 0.32)\n",
      "\n",
      "n_estimators = 300 max_features = sqrt\n",
      "R2: -0.24 (+/- 1.04)\n",
      "MSE: 0.28 (+/- 0.29)\n",
      "\n",
      "n_estimators = 400 max_features = auto\n",
      "R2: -0.27 (+/- 1.39)\n",
      "MSE: 0.28 (+/- 0.32)\n",
      "\n",
      "n_estimators = 400 max_features = sqrt\n",
      "R2: -0.24 (+/- 1.05)\n",
      "MSE: 0.28 (+/- 0.29)\n",
      "\n",
      "n_estimators = 500 max_features = auto\n",
      "R2: -0.28 (+/- 1.39)\n",
      "MSE: 0.29 (+/- 0.32)\n",
      "\n",
      "n_estimators = 500 max_features = sqrt\n",
      "R2: -0.24 (+/- 1.05)\n",
      "MSE: 0.28 (+/- 0.28)\n",
      "\n"
     ]
    }
   ],
   "source": [
    "for n in n_estimators:\n",
    "    for m in max_features:\n",
    "        print(\"n_estimators =\", n, \"max_features =\", m)\n",
    "        cross_val(n_estimators=n, max_features=m, random_state=42)"
   ]
  },
  {
   "cell_type": "code",
   "execution_count": null,
   "metadata": {},
   "outputs": [],
   "source": []
  }
 ],
 "metadata": {
  "kernelspec": {
   "display_name": "Python 3",
   "language": "python",
   "name": "python3"
  },
  "language_info": {
   "codemirror_mode": {
    "name": "ipython",
    "version": 3
   },
   "file_extension": ".py",
   "mimetype": "text/x-python",
   "name": "python",
   "nbconvert_exporter": "python",
   "pygments_lexer": "ipython3",
   "version": "3.6.6"
  }
 },
 "nbformat": 4,
 "nbformat_minor": 2
}
