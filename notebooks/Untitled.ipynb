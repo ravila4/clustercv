{
 "cells": [
  {
   "cell_type": "code",
   "execution_count": 1,
   "metadata": {},
   "outputs": [],
   "source": [
    "import pandas as pd"
   ]
  },
  {
   "cell_type": "code",
   "execution_count": 2,
   "metadata": {},
   "outputs": [
    {
     "data": {
      "text/plain": [
       "(382291, 11)"
      ]
     },
     "execution_count": 2,
     "metadata": {},
     "output_type": "execute_result"
    }
   ],
   "source": [
    "data = pd.read_csv(\"cmpd_activity_tcrd_5.4.1.csv\", low_memory=False)\n",
    "data.shape"
   ]
  },
  {
   "cell_type": "code",
   "execution_count": 3,
   "metadata": {},
   "outputs": [
    {
     "data": {
      "text/plain": [
       "Index(['id', 'target_id', 'catype', 'cmpd_id_in_src', 'cmpd_name_in_src',\n",
       "       'smiles', 'act_value', 'act_type', 'reference', 'pubmed_ids',\n",
       "       'cmpd_pubchem_cid'],\n",
       "      dtype='object')"
      ]
     },
     "execution_count": 3,
     "metadata": {},
     "output_type": "execute_result"
    }
   ],
   "source": [
    "data.columns"
   ]
  },
  {
   "cell_type": "code",
   "execution_count": 4,
   "metadata": {},
   "outputs": [
    {
     "data": {
      "text/plain": [
       "0                        ChEMBL\n",
       "1                        ChEMBL\n",
       "2                        ChEMBL\n",
       "3                        ChEMBL\n",
       "4                        ChEMBL\n",
       "5                        ChEMBL\n",
       "6                        ChEMBL\n",
       "7                        ChEMBL\n",
       "8                        ChEMBL\n",
       "9                        ChEMBL\n",
       "10                       ChEMBL\n",
       "11                       ChEMBL\n",
       "12                       ChEMBL\n",
       "13                       ChEMBL\n",
       "14                       ChEMBL\n",
       "15                       ChEMBL\n",
       "16                       ChEMBL\n",
       "17                       ChEMBL\n",
       "18                       ChEMBL\n",
       "19                       ChEMBL\n",
       "20                       ChEMBL\n",
       "21                       ChEMBL\n",
       "22                       ChEMBL\n",
       "23                       ChEMBL\n",
       "24                       ChEMBL\n",
       "25                       ChEMBL\n",
       "26                       ChEMBL\n",
       "27                       ChEMBL\n",
       "28                       ChEMBL\n",
       "29                       ChEMBL\n",
       "                  ...          \n",
       "382261    Guide to Pharmacology\n",
       "382262    Guide to Pharmacology\n",
       "382263    Guide to Pharmacology\n",
       "382264    Guide to Pharmacology\n",
       "382265    Guide to Pharmacology\n",
       "382266    Guide to Pharmacology\n",
       "382267    Guide to Pharmacology\n",
       "382268    Guide to Pharmacology\n",
       "382269    Guide to Pharmacology\n",
       "382270    Guide to Pharmacology\n",
       "382271    Guide to Pharmacology\n",
       "382272    Guide to Pharmacology\n",
       "382273    Guide to Pharmacology\n",
       "382274    Guide to Pharmacology\n",
       "382275    Guide to Pharmacology\n",
       "382276    Guide to Pharmacology\n",
       "382277    Guide to Pharmacology\n",
       "382278    Guide to Pharmacology\n",
       "382279    Guide to Pharmacology\n",
       "382280    Guide to Pharmacology\n",
       "382281    Guide to Pharmacology\n",
       "382282    Guide to Pharmacology\n",
       "382283    Guide to Pharmacology\n",
       "382284    Guide to Pharmacology\n",
       "382285    Guide to Pharmacology\n",
       "382286    Guide to Pharmacology\n",
       "382287    Guide to Pharmacology\n",
       "382288    Guide to Pharmacology\n",
       "382289    Guide to Pharmacology\n",
       "382290    Guide to Pharmacology\n",
       "Name: catype, Length: 382291, dtype: object"
      ]
     },
     "execution_count": 4,
     "metadata": {},
     "output_type": "execute_result"
    }
   ],
   "source": [
    "data."
   ]
  },
  {
   "cell_type": "code",
   "execution_count": null,
   "metadata": {},
   "outputs": [],
   "source": []
  }
 ],
 "metadata": {
  "kernelspec": {
   "display_name": "Python 3",
   "language": "python",
   "name": "python3"
  },
  "language_info": {
   "codemirror_mode": {
    "name": "ipython",
    "version": 3
   },
   "file_extension": ".py",
   "mimetype": "text/x-python",
   "name": "python",
   "nbconvert_exporter": "python",
   "pygments_lexer": "ipython3",
   "version": "3.6.6"
  }
 },
 "nbformat": 4,
 "nbformat_minor": 2
}
